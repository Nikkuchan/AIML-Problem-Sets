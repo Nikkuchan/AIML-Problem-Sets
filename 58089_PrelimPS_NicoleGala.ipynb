{
  "nbformat": 4,
  "nbformat_minor": 0,
  "metadata": {
    "colab": {
      "name": "58089_PrelimPS_NicoleGala.ipynb",
      "provenance": [],
      "collapsed_sections": [
        "JpcY5oJ5eFxA"
      ],
      "include_colab_link": true
    },
    "kernelspec": {
      "name": "python3",
      "display_name": "Python 3"
    },
    "language_info": {
      "name": "python"
    }
  },
  "cells": [
    {
      "cell_type": "markdown",
      "metadata": {
        "id": "view-in-github",
        "colab_type": "text"
      },
      "source": [
        "<a href=\"https://colab.research.google.com/github/Nikkuchan/AIML-Problem-Sets/blob/main/58089_PrelimPS_NicoleGala.ipynb\" target=\"_parent\"><img src=\"https://colab.research.google.com/assets/colab-badge.svg\" alt=\"Open In Colab\"/></a>"
      ]
    },
    {
      "cell_type": "markdown",
      "metadata": {
        "id": "fte_zsqVdp8R"
      },
      "source": [
        "# Topic02a : Prelim Problem Set I"
      ]
    },
    {
      "cell_type": "markdown",
      "metadata": {
        "id": "pYPY0ZsMm-mk"
      },
      "source": [
        "#**SOLUTIONS FOR CASE 1** \n",
        "**[Problem 1.a]** "
      ]
    },
    {
      "cell_type": "code",
      "metadata": {
        "id": "kP_PWDQHnQqt"
      },
      "source": [
        "import numpy as np\n",
        "import math\n",
        "import matplotlib.pyplot as plt\n",
        "%matplotlib inline"
      ],
      "execution_count": 1,
      "outputs": []
    },
    {
      "cell_type": "code",
      "metadata": {
        "colab": {
          "base_uri": "https://localhost:8080/"
        },
        "id": "5FfZNmpbn_0r",
        "outputId": "ceface54-cdb9-4c6e-eacb-098b7ccc1efc"
      },
      "source": [
        "x = np.array([[-1, 1, 1/32], [1/2, -2, 0], [-1, 3/7, 4/5]])\n",
        "x"
      ],
      "execution_count": 2,
      "outputs": [
        {
          "output_type": "execute_result",
          "data": {
            "text/plain": [
              "array([[-1.        ,  1.        ,  0.03125   ],\n",
              "       [ 0.5       , -2.        ,  0.        ],\n",
              "       [-1.        ,  0.42857143,  0.8       ]])"
            ]
          },
          "metadata": {},
          "execution_count": 2
        }
      ]
    },
    {
      "cell_type": "markdown",
      "metadata": {
        "id": "096QGfVioFeq"
      },
      "source": [
        "$$\n",
        "x =\\begin{bmatrix} -1 & 1 & \\frac{1}{32} \\\\ \\frac{1}{2} & {-2} & 0\\\\ -1 & \\frac{3}{7} & \\frac{4}{5}\\end{bmatrix}\n",
        "$$"
      ]
    },
    {
      "cell_type": "markdown",
      "metadata": {
        "id": "ibyN7efloKWX"
      },
      "source": [
        "**[Problem 1.b]** "
      ]
    },
    {
      "cell_type": "code",
      "metadata": {
        "colab": {
          "base_uri": "https://localhost:8080/"
        },
        "id": "3fqFvAbaoNVa",
        "outputId": "cc046963-22f5-46e3-c819-992b9f729a26"
      },
      "source": [
        "csc = 1/math.sin(2**180)\n",
        "cos = math.cos(180)\n",
        "sin = math.sin(180)\n",
        "\n",
        "t = np.array([cos, sin, csc]) ##Values from the upper part\n",
        "t"
      ],
      "execution_count": 3,
      "outputs": [
        {
          "output_type": "execute_result",
          "data": {
            "text/plain": [
              "array([-0.59846007, -0.80115264,  1.00032034])"
            ]
          },
          "metadata": {},
          "execution_count": 3
        }
      ]
    },
    {
      "cell_type": "markdown",
      "metadata": {
        "id": "x3Xhdy9uoRqM"
      },
      "source": [
        "$$\n",
        "t =\\begin{bmatrix} cos{(\\theta)}\\hat{i} \\\\ sin{(\\theta)}\\hat{j}\\\\ -csc{(2\\theta)}\\hat{k}\\end{bmatrix}\n",
        "$$"
      ]
    },
    {
      "cell_type": "markdown",
      "metadata": {
        "id": "v4G8j506oVrX"
      },
      "source": [
        "**[Problem 1.c]** "
      ]
    },
    {
      "cell_type": "code",
      "metadata": {
        "colab": {
          "base_uri": "https://localhost:8080/"
        },
        "id": "KJTs7GQ0oaba",
        "outputId": "ba697d22-fb18-4c6f-f418-4e25978535ef"
      },
      "source": [
        "attendees = np.array([200, 45, 15, 40])\n",
        "\n",
        "np.true_divide(attendees,300) * 100"
      ],
      "execution_count": 4,
      "outputs": [
        {
          "output_type": "execute_result",
          "data": {
            "text/plain": [
              "array([66.66666667, 15.        ,  5.        , 13.33333333])"
            ]
          },
          "metadata": {},
          "execution_count": 4
        }
      ]
    },
    {
      "cell_type": "markdown",
      "metadata": {
        "id": "vKlExY0Poh-4"
      },
      "source": [
        "$$\n",
        "\\begin{matrix} {Students} \\\\ {Professionals} \\\\ {Panels} \\\\ {Committee} \\end{matrix}\n",
        "\\begin{bmatrix} 200 \\\\ 45 \\\\ 15 \\\\ 40 \\end{bmatrix} =\n",
        "\\begin{bmatrix} 66.67\\% \\\\ 15.00\\% \\\\ 5.00\\% \\\\ 13.33\\% \\end{bmatrix}\n",
        "$$"
      ]
    },
    {
      "cell_type": "markdown",
      "metadata": {
        "id": "_XvxJgmkooGq"
      },
      "source": [
        "#**SOLUTIONS FOR CASE 2** \n",
        "**[Problem 2.a]** "
      ]
    },
    {
      "cell_type": "code",
      "metadata": {
        "colab": {
          "base_uri": "https://localhost:8080/"
        },
        "id": "NddEsTUwotkK",
        "outputId": "0267ddaa-4bcf-4a40-dea6-d8dcabbbb42f"
      },
      "source": [
        "import numpy as np\n",
        "\n",
        "def vect_mag(a):\n",
        "\treturn np.sqrt(sum(k**2 for k in a))\n",
        "\n",
        "vector = np.array([1, 2, 3, 4, 5])\n",
        "v = vect_mag(vector)\n",
        "\n",
        "print (vector, v, sep = '\\n')"
      ],
      "execution_count": 6,
      "outputs": [
        {
          "output_type": "stream",
          "name": "stdout",
          "text": [
            "[1 2 3 4 5]\n",
            "7.416198487095663\n"
          ]
        }
      ]
    },
    {
      "cell_type": "markdown",
      "metadata": {
        "id": "_fgTUcaNoqDr"
      },
      "source": [
        "**[Problem 2.b]** "
      ]
    },
    {
      "cell_type": "code",
      "metadata": {
        "id": "yfveyGe3gFWR"
      },
      "source": [
        "def angle_vectors(a,b):\n",
        "  inner = np.inner(a, b)\n",
        "  norms = np.linalg.norm(a) * np.linalg.norm(b)\n",
        "\n",
        "  cos = inner / norms\n",
        "  rad = np.arccos(np.clip(cos, -1.0, 1.0))\n",
        "  deg = np.rad2deg (rad)\n",
        "  print(\"Radiant: \", rad)\n",
        "  print(\"Degree: \", deg)\n",
        "  return deg,rad\n"
      ],
      "execution_count": 8,
      "outputs": []
    },
    {
      "cell_type": "code",
      "metadata": {
        "colab": {
          "base_uri": "https://localhost:8080/"
        },
        "id": "EYjr4v8vgR6-",
        "outputId": "2dad9c2c-850b-4b22-b785-e23271eb1951"
      },
      "source": [
        "  a = np.array([9, 5])\n",
        "  b = np.array([-6, 2])\n",
        "  print(a,b)"
      ],
      "execution_count": 9,
      "outputs": [
        {
          "output_type": "stream",
          "name": "stdout",
          "text": [
            "[9 5] [-6  2]\n"
          ]
        }
      ]
    },
    {
      "cell_type": "code",
      "metadata": {
        "colab": {
          "base_uri": "https://localhost:8080/"
        },
        "id": "EdsIsrTNgVR2",
        "outputId": "0bbda397-b4bc-4466-9dbf-797fe980e5df"
      },
      "source": [
        "angle_vectors(a,b)"
      ],
      "execution_count": 10,
      "outputs": [
        {
          "output_type": "stream",
          "name": "stdout",
          "text": [
            "Radiant:  2.3127435948008137\n",
            "Degree:  132.51044707800082\n"
          ]
        },
        {
          "output_type": "execute_result",
          "data": {
            "text/plain": [
              "(132.51044707800082, 2.3127435948008137)"
            ]
          },
          "metadata": {},
          "execution_count": 10
        }
      ]
    },
    {
      "cell_type": "markdown",
      "metadata": {
        "id": "vF3C6a4qW_LF"
      },
      "source": [
        "#**SOLUTIONS FOR CASE 3**\n",
        "**[Problem 3.a]**\n",
        "> Unlike scalar multiplication, multiplication involving matrices is not commutative. However, commutative property is allowed when getting the dot product between two vectors.\n",
        "\n",
        "It means that $A\\cdot B = B \\cdot A $ can be applied even if one of the vectors is transposed. \n",
        "\n",
        "In problem 3.a, it is required to prove the equality of $X \\cdot \\theta$ with $\\theta^T\\cdot X$ given that $z$ can also be solved as $X \\cdot \\theta$ in equation 3.1\n",
        "$$X = \\begin{bmatrix} \n",
        "— (x^{(1)})^T— \\\\ \n",
        "— (x^{(2)})^T— \\\\\n",
        "\\vdots \\\\\n",
        "— (x^{(m)})^T— \\\\\n",
        "\\end{bmatrix} \\text{, } \n",
        "\\theta = \\begin{bmatrix} \n",
        "\\theta^{(1)} \\\\ \n",
        "\\theta^{(2)} \\\\\n",
        "\\vdots \\\\\n",
        "\\theta^{(m)} \\\\\n",
        "\\end{bmatrix} $$\n",
        "\n",
        "By computing the vector product of the dataset and the parameters $$ z = X\\cdot \\theta$$ we get:\n",
        "\n",
        "$$z = \\begin{bmatrix} \n",
        "— (x^{(1)})^T\\theta— \\\\ \n",
        "— (x^{(2)})^T\\theta-\\\\\n",
        "\\vdots \\\\\n",
        "— (x^{(m)})^T\\theta— \\\\\n",
        "\\end{bmatrix}$$\n",
        "\n",
        "\n",
        ">By applying commutative property to $ z = X\\cdot \\theta$ which is the vectorized form of $x^{(i)^T} \\theta^{(i)}$ , we can say that it is equal to \n",
        "$$ z = \\theta^T\\cdot X$$ \n",
        "\n",
        "$$z = \\begin{bmatrix} \n",
        "—\\theta^T(x^{(1)})— \\\\ \n",
        "—\\theta^T(x^{(2)})-\\\\\n",
        "\\vdots \\\\\n",
        "—\\theta^T(x^{(m)})— \\\\\n",
        "\\end{bmatrix}$$\n",
        "\n",
        "Hence, \n",
        "$$z = \\begin{bmatrix} \n",
        "— (x^{(1)})^T\\theta— \\\\ \n",
        "— (x^{(2)})^T\\theta-\\\\\n",
        "\\vdots \\\\\n",
        "— (x^{(m)})^T\\theta— \\\\\n",
        "\\end{bmatrix} \n",
        "= \\begin{bmatrix} \n",
        "—\\theta^T(x^{(1)})— \\\\ \n",
        "—\\theta^T(x^{(2)})-\\\\\n",
        "\\vdots \\\\\n",
        "—\\theta^T(x^{(m)})— \\\\\n",
        "\\end{bmatrix} $$"
      ]
    },
    {
      "cell_type": "markdown",
      "metadata": {
        "id": "DGuTXvz1-NLP"
      },
      "source": [
        "\n",
        "**[Problem 3.b]**\n",
        ">The output derived from logic regression hypothesis $h_\\theta$ is used in determining the estimated probability. In this problem, the shape of $h_\\theta$ must be determined given that $X$ has a shape of $(300,5)$\n",
        "\n",
        "Logic Regression Hypothesis: \n",
        "$$ h_\\theta(x) = g(z)\\$$\n",
        "\n",
        "wherein\n",
        "$$g(z) = \\frac{1}{1+e^{-z}}\\$$\n",
        "and\n",
        "\n",
        "$$ z = X\\cdot\\theta$$ \n",
        "\n",
        "if $X$ has a shape of $(300,5)$ then\n",
        "\n",
        "$$X = \\begin{bmatrix} \n",
        "x^{1} \\quad x^{301} \\quad x^{601} \\quad x^{901} \\quad x^{1201} \\\\\n",
        "x^{2} \\quad x^{302} \\quad x^{603} \\quad x^{904} \\quad x^{1205} \\\\  \n",
        "\\enspace\\vdots\\hspace{2em} \\vdots\\hspace{2em}  \\vdots\\hspace{2em} \\vdots \\hspace{2em}\\vdots\\enspace\\\\\n",
        "x^{300} \\quad x^{600} \\quad x^{900} \\quad x^{1200} \\quad x^{1500} \\\\  \n",
        "\\end{bmatrix}\n",
        "\\text{, } \n",
        "\\theta = \\begin{bmatrix} \n",
        "\\theta^{1} \\\\ \n",
        "\\theta^{2} \\\\\n",
        "\\vdots \\\\\n",
        "\\theta^{k} \\\\\n",
        "\\end{bmatrix}\n",
        "$$\n",
        "\n",
        "It can also be written as \n",
        "$$ h_\\theta = g(X.\\theta)\\$$\n",
        "\n",
        "Getting $h_\\theta$ by multiplying $X$ that has a shape of $(n,m)$ or (300,5) to its parameter vector $\\theta$ that has a dimension of $(m,k)$ or (300,1) would result to getting the scalar value of the inner product $(300,1)$\n",
        "\n",
        "$$h_\\theta = \\begin{bmatrix} \n",
        "\\theta^{1}(x^{1}) \\\\ \n",
        "\\theta^{2}(x^{2}) \\\\\n",
        "\\vdots \\\\\n",
        "\\theta^{300}(x^{300}) \\\\ \n",
        "\\end{bmatrix}\n",
        "$$"
      ]
    },
    {
      "cell_type": "markdown",
      "metadata": {
        "id": "WpfsxheVpDzP"
      },
      "source": [
        "**[Problem 3.c]**\n"
      ]
    },
    {
      "cell_type": "markdown",
      "metadata": {
        "id": "UBgltiPypA-7"
      },
      "source": [
        "$$\\begin{bmatrix} \n",
        "\\frac{\\partial{J}}{\\partial{\\theta}_0} \\\\ \n",
        "\\frac{\\partial{J}}{\\partial{\\theta}_1} \\\\\n",
        "\\frac{\\partial{J}}{\\partial{\\theta}_2} \\\\\n",
        "\\vdots \\\\\n",
        "\\frac{\\partial{J}}{\\partial{\\theta}_n} \\\\\n",
        "\\end{bmatrix} = \n",
        "\\frac{1}{m}\n",
        "\\begin{bmatrix} \n",
        "\\sum^{m}_{i=1} [ -y^{(i)} \\log (h_{\\theta} (x^{(i)})) - (1-y^{(i)}) \\log (1-h_{\\theta}(x^{(i)}))] \\\\\n",
        "\\sum^{m}_{i=1} [ -y^{(i)} \\log (h_{\\theta} (x^{(i)})) - (1-y^{(i)}) \\log (1-h_{\\theta}(x^{(i)}))] \\\\ \n",
        "\\sum^{m}_{i=1} [ -y^{(i)} \\log (h_{\\theta} (x^{(i)})) - (1-y^{(i)}) \\log (1-h_{\\theta}(x^{(i)}))] \\\\ \n",
        "\\vdots \\\\\n",
        "\\sum^{m}_{i=1} [ -y^{(i)} \\log (h_{\\theta} (x^{(i)})) - (1-y^{(i)}) \\log (1-h_{\\theta}(x^{(i)}))] \\\\ \n",
        "\\end{bmatrix} \n",
        "$$\n",
        "\n",
        "$$\n",
        "\\frac{\\partial{J}(\\theta)}{\\partial{\\theta}_0} =\n",
        "\\frac{1}{m}\n",
        "\\sum\\limits_{i=1}^m (h_0(x^{(i)})-y^{(i)})x^{(i)}_j \n",
        "$$\n",
        "$$\n",
        "\\frac{\\partial{J}(\\theta)}{\\partial{\\theta}_0} = \\left (\n",
        "\\frac{1}{m}\n",
        "\\sum\\limits_{i=1}^m (h_0(x^{(i)})-y^{(i)})x^{(i)}_j \\right) +\n",
        "\\frac{\\lambda}{m} \\theta_j\n",
        "$$"
      ]
    },
    {
      "cell_type": "markdown",
      "metadata": {
        "id": "1U8SAoS7Oa1C"
      },
      "source": [
        ""
      ]
    }
  ]
}